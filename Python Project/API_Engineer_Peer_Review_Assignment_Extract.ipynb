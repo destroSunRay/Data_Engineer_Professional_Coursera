{
 "cells": [
  {
   "cell_type": "markdown",
   "metadata": {},
   "source": [
    "<p style=\"text-align:center\">\n",
    "    <a href=\"https://skills.network/?utm_medium=Exinfluencer&utm_source=Exinfluencer&utm_content=000026UJ&utm_term=10006555&utm_id=NA-SkillsNetwork-Channel-SkillsNetworkCoursesIBMDeveloperSkillsNetworkPY0221ENSkillsNetwork899-2023-01-01\">\n",
    "    <img src=\"https://cf-courses-data.s3.us.cloud-object-storage.appdomain.cloud/assets/logos/SN_web_lightmode.png\" width=\"200\" alt=\"Skills Network Logo\"  />\n",
    "    </a>\n",
    "</p>\n"
   ]
  },
  {
   "cell_type": "markdown",
   "metadata": {},
   "source": [
    "# Peer Review Assignment - Data Engineer - Extract API Data\n"
   ]
  },
  {
   "cell_type": "markdown",
   "metadata": {},
   "source": [
    "Estimated time needed: **20** minutes\n"
   ]
  },
  {
   "cell_type": "markdown",
   "metadata": {},
   "source": [
    "## Objectives\n",
    "\n",
    "In this part you will:\n",
    "\n",
    "-   Collect exchange rate data using an API\n",
    "-   Store the data as a CSV\n"
   ]
  },
  {
   "cell_type": "markdown",
   "metadata": {},
   "source": [
    "For this lab, we are going to be using Python and several Python libraries. Some of these libraries might be installed in your lab environment or in SN Labs. Others may need to be installed by you. The cells below will install these libraries when executed.\n"
   ]
  },
  {
   "cell_type": "code",
   "execution_count": null,
   "metadata": {},
   "outputs": [],
   "source": [
    "#!mamba install pandas==1.3.3 -y\n",
    "#!mamba install requests==2.26.0 -y"
   ]
  },
  {
   "cell_type": "markdown",
   "metadata": {},
   "source": [
    "## Imports\n",
    "\n",
    "Import any additional libraries you may need here.\n"
   ]
  },
  {
   "cell_type": "code",
   "execution_count": 1,
   "metadata": {
    "tags": []
   },
   "outputs": [],
   "source": [
    "import requests\n",
    "import pandas as pd"
   ]
  },
  {
   "cell_type": "markdown",
   "metadata": {},
   "source": [
    "## Extract Data Using an API\n"
   ]
  },
  {
   "cell_type": "markdown",
   "metadata": {},
   "source": [
    "Using ExchangeRate-API we will extract currency exchange rate data. Use the below steps to get the access key and to get the data. \n",
    "1. Open the url : https://exchangeratesapi.io/ and click on **Get Free API Key**. \n",
    "2. Subscribe for Free plan and Sign-in with the Google Account. \n",
    "3. Once the account is created you will be redirected to https://apilayer.com website.\n",
    "2. Now, click on the **user icon** and click **Account** as shown below:\n",
    "\n",
    "<img src=\"https://cf-courses-data.s3.us.cloud-object-storage.appdomain.cloud/IBMDeveloperSkillsNetwork-PY0221EN-SkillsNetwork/labs/module%206/Final%20Assignment/Images/account.png\">\n",
    "\n",
    "3. Scroll down and you will get the API Key section. Copy the API key and use in the url in Question 1.\n"
   ]
  },
  {
   "cell_type": "markdown",
   "metadata": {},
   "source": [
    "### Call the API\n",
    "\n",
    " <b> Question 1</b> Using the `requests` library call the endpoint given above and save the text, remember the first few characters of the output: \n"
   ]
  },
  {
   "cell_type": "code",
   "execution_count": 10,
   "metadata": {
    "tags": []
   },
   "outputs": [
    {
     "data": {
      "text/plain": [
       "{'AED': 4.045927,\n",
       " 'AFN': 93.252869,\n",
       " 'ALL': 103.783193,\n",
       " 'AMD': 423.913041,\n",
       " 'ANG': 1.972561,\n",
       " 'AOA': 908.694905,\n",
       " 'ARS': 304.348563,\n",
       " 'AUD': 1.676066,\n",
       " 'AWG': 1.985515,\n",
       " 'AZN': 1.871076,\n",
       " 'BAM': 1.95586,\n",
       " 'BBD': 2.209868,\n",
       " 'BDT': 119.29367,\n",
       " 'BGN': 1.95586,\n",
       " 'BHD': 0.412613,\n",
       " 'BIF': 3100.395376,\n",
       " 'BMD': 1.101534,\n",
       " 'BND': 1.470645,\n",
       " 'BOB': 7.563233,\n",
       " 'BRL': 5.383066,\n",
       " 'BSD': 1.094534,\n",
       " 'BTC': 3.7742152e-05,\n",
       " 'BTN': 90.618788,\n",
       " 'BWP': 14.720453,\n",
       " 'BYN': 2.762585,\n",
       " 'BYR': 21590.064164,\n",
       " 'BZD': 2.206168,\n",
       " 'CAD': 1.473136,\n",
       " 'CDF': 2687.742394,\n",
       " 'CHF': 0.961307,\n",
       " 'CLF': 0.033763,\n",
       " 'CLP': 931.628659,\n",
       " 'CNY': 7.866163,\n",
       " 'COP': 4565.340441,\n",
       " 'CRC': 594.318283,\n",
       " 'CUC': 1.101534,\n",
       " 'CUP': 29.190648,\n",
       " 'CVE': 110.268392,\n",
       " 'CZK': 24.256844,\n",
       " 'DJF': 194.875995,\n",
       " 'DKK': 7.455202,\n",
       " 'DOP': 61.801901,\n",
       " 'DZD': 149.302995,\n",
       " 'EGP': 33.874242,\n",
       " 'ERN': 16.523008,\n",
       " 'ETB': 60.321356,\n",
       " 'EUR': 1,\n",
       " 'FJD': 2.443528,\n",
       " 'FKP': 0.864011,\n",
       " 'GBP': 0.86361,\n",
       " 'GEL': 2.869502,\n",
       " 'GGP': 0.864011,\n",
       " 'GHS': 12.36738,\n",
       " 'GIP': 0.864011,\n",
       " 'GMD': 66.529405,\n",
       " 'GNF': 9413.289576,\n",
       " 'GTQ': 8.605265,\n",
       " 'GYD': 228.987044,\n",
       " 'HKD': 8.603921,\n",
       " 'HNL': 26.915828,\n",
       " 'HRK': 7.406559,\n",
       " 'HTG': 149.394596,\n",
       " 'HUF': 389.207183,\n",
       " 'IDR': 16691.43282,\n",
       " 'ILS': 4.023595,\n",
       " 'IMP': 0.864011,\n",
       " 'INR': 91.078952,\n",
       " 'IQD': 1433.744106,\n",
       " 'IRR': 46608.643357,\n",
       " 'ISK': 145.160345,\n",
       " 'JEP': 0.864011,\n",
       " 'JMD': 169.225206,\n",
       " 'JOD': 0.779994,\n",
       " 'JPY': 156.06864,\n",
       " 'KES': 155.634788,\n",
       " 'KGS': 96.752016,\n",
       " 'KHR': 4526.139235,\n",
       " 'KMF': 495.497457,\n",
       " 'KPW': 991.380497,\n",
       " 'KRW': 1436.444496,\n",
       " 'KWD': 0.338755,\n",
       " 'KYD': 0.912128,\n",
       " 'KZT': 487.514997,\n",
       " 'LAK': 21268.654277,\n",
       " 'LBP': 16428.205373,\n",
       " 'LKR': 351.340808,\n",
       " 'LRD': 205.659868,\n",
       " 'LSL': 20.602889,\n",
       " 'LTL': 3.252544,\n",
       " 'LVL': 0.666307,\n",
       " 'LYD': 5.255162,\n",
       " 'MAD': 10.653828,\n",
       " 'MDL': 19.208591,\n",
       " 'MGA': 4938.15191,\n",
       " 'MKD': 61.621896,\n",
       " 'MMK': 2298.370704,\n",
       " 'MNT': 3822.498484,\n",
       " 'MOP': 8.803971,\n",
       " 'MRO': 393.247408,\n",
       " 'MUR': 49.669928,\n",
       " 'MVR': 16.908176,\n",
       " 'MWK': 1149.735369,\n",
       " 'MXN': 18.827786,\n",
       " 'MYR': 5.01749,\n",
       " 'MZN': 69.672062,\n",
       " 'NAD': 20.601736,\n",
       " 'NGN': 845.372601,\n",
       " 'NIO': 40.041232,\n",
       " 'NOK': 11.166354,\n",
       " 'NPR': 144.99046,\n",
       " 'NZD': 1.80722,\n",
       " 'OMR': 0.42411,\n",
       " 'PAB': 1.094534,\n",
       " 'PEN': 4.038624,\n",
       " 'PGK': 3.977122,\n",
       " 'PHP': 61.177539,\n",
       " 'PKR': 310.231543,\n",
       " 'PLN': 4.439132,\n",
       " 'PYG': 7975.245338,\n",
       " 'QAR': 4.010666,\n",
       " 'RON': 4.948755,\n",
       " 'RSD': 117.293608,\n",
       " 'RUB': 105.609545,\n",
       " 'RWF': 1288.639642,\n",
       " 'SAR': 4.132518,\n",
       " 'SBD': 9.218502,\n",
       " 'SCR': 14.81009,\n",
       " 'SDG': 662.575862,\n",
       " 'SEK': 11.685949,\n",
       " 'SGD': 1.474832,\n",
       " 'SHP': 1.340292,\n",
       " 'SLE': 23.31392,\n",
       " 'SLL': 21755.294291,\n",
       " 'SOS': 627.319076,\n",
       " 'SRD': 42.19533,\n",
       " 'STD': 22799.527451,\n",
       " 'SVC': 9.576295,\n",
       " 'SYP': 14430.093746,\n",
       " 'SZL': 20.48163,\n",
       " 'THB': 38.201283,\n",
       " 'TJS': 12.000969,\n",
       " 'TMT': 3.855369,\n",
       " 'TND': 3.402362,\n",
       " 'TOP': 2.61014,\n",
       " 'TRY': 29.727371,\n",
       " 'TTD': 7.420228,\n",
       " 'TWD': 34.881725,\n",
       " 'TZS': 2741.784344,\n",
       " 'UAH': 40.423844,\n",
       " 'UGX': 3951.121546,\n",
       " 'USD': 1.101534,\n",
       " 'UYU': 41.451275,\n",
       " 'UZS': 12761.392572,\n",
       " 'VEF': 3308487.948017,\n",
       " 'VES': 33.119373,\n",
       " 'VND': 26144.906783,\n",
       " 'VUV': 131.492562,\n",
       " 'WST': 2.955538,\n",
       " 'XAF': 655.977179,\n",
       " 'XAG': 0.046626,\n",
       " 'XAU': 0.000567,\n",
       " 'XCD': 2.97695,\n",
       " 'XDR': 0.815025,\n",
       " 'XOF': 655.977179,\n",
       " 'XPF': 120.232701,\n",
       " 'YER': 275.76903,\n",
       " 'ZAR': 20.317776,\n",
       " 'ZMK': 9915.108927,\n",
       " 'ZMW': 21.12365,\n",
       " 'ZWL': 354.693462}"
      ]
     },
     "execution_count": 10,
     "metadata": {},
     "output_type": "execute_result"
    }
   ],
   "source": [
    "# Write your code here\n",
    "url = \"http://api.exchangeratesapi.io/v1/latest?base=EUR&access_key=9f871445e39f718f998d4d9f7e1761ec\"  #Make sure to change ******* to your API key.\n",
    "res = requests.get(url)\n",
    "res.json()"
   ]
  },
  {
   "cell_type": "markdown",
   "metadata": {},
   "source": [
    "### Save as DataFrame\n",
    "\n",
    " <b> Question 2</b>  Using the data gathered turn it into a `pandas` dataframe. The dataframe should have the Currency as the index and `Rate` as their columns. Make sure to drop unnecessary columns.\n"
   ]
  },
  {
   "cell_type": "code",
   "execution_count": 25,
   "metadata": {
    "tags": []
   },
   "outputs": [
    {
     "data": {
      "text/html": [
       "<div>\n",
       "<style scoped>\n",
       "    .dataframe tbody tr th:only-of-type {\n",
       "        vertical-align: middle;\n",
       "    }\n",
       "\n",
       "    .dataframe tbody tr th {\n",
       "        vertical-align: top;\n",
       "    }\n",
       "\n",
       "    .dataframe thead th {\n",
       "        text-align: right;\n",
       "    }\n",
       "</style>\n",
       "<table border=\"1\" class=\"dataframe\">\n",
       "  <thead>\n",
       "    <tr style=\"text-align: right;\">\n",
       "      <th></th>\n",
       "      <th>success</th>\n",
       "      <th>timestamp</th>\n",
       "      <th>base</th>\n",
       "      <th>date</th>\n",
       "      <th>rates</th>\n",
       "    </tr>\n",
       "  </thead>\n",
       "  <tbody>\n",
       "    <tr>\n",
       "      <th>AED</th>\n",
       "      <td>True</td>\n",
       "      <td>1691357403</td>\n",
       "      <td>EUR</td>\n",
       "      <td>2023-08-06</td>\n",
       "      <td>4.045927</td>\n",
       "    </tr>\n",
       "    <tr>\n",
       "      <th>AFN</th>\n",
       "      <td>True</td>\n",
       "      <td>1691357403</td>\n",
       "      <td>EUR</td>\n",
       "      <td>2023-08-06</td>\n",
       "      <td>93.252869</td>\n",
       "    </tr>\n",
       "    <tr>\n",
       "      <th>ALL</th>\n",
       "      <td>True</td>\n",
       "      <td>1691357403</td>\n",
       "      <td>EUR</td>\n",
       "      <td>2023-08-06</td>\n",
       "      <td>103.783193</td>\n",
       "    </tr>\n",
       "    <tr>\n",
       "      <th>AMD</th>\n",
       "      <td>True</td>\n",
       "      <td>1691357403</td>\n",
       "      <td>EUR</td>\n",
       "      <td>2023-08-06</td>\n",
       "      <td>423.913041</td>\n",
       "    </tr>\n",
       "    <tr>\n",
       "      <th>ANG</th>\n",
       "      <td>True</td>\n",
       "      <td>1691357403</td>\n",
       "      <td>EUR</td>\n",
       "      <td>2023-08-06</td>\n",
       "      <td>1.972561</td>\n",
       "    </tr>\n",
       "    <tr>\n",
       "      <th>...</th>\n",
       "      <td>...</td>\n",
       "      <td>...</td>\n",
       "      <td>...</td>\n",
       "      <td>...</td>\n",
       "      <td>...</td>\n",
       "    </tr>\n",
       "    <tr>\n",
       "      <th>YER</th>\n",
       "      <td>True</td>\n",
       "      <td>1691357403</td>\n",
       "      <td>EUR</td>\n",
       "      <td>2023-08-06</td>\n",
       "      <td>275.769030</td>\n",
       "    </tr>\n",
       "    <tr>\n",
       "      <th>ZAR</th>\n",
       "      <td>True</td>\n",
       "      <td>1691357403</td>\n",
       "      <td>EUR</td>\n",
       "      <td>2023-08-06</td>\n",
       "      <td>20.317776</td>\n",
       "    </tr>\n",
       "    <tr>\n",
       "      <th>ZMK</th>\n",
       "      <td>True</td>\n",
       "      <td>1691357403</td>\n",
       "      <td>EUR</td>\n",
       "      <td>2023-08-06</td>\n",
       "      <td>9915.108927</td>\n",
       "    </tr>\n",
       "    <tr>\n",
       "      <th>ZMW</th>\n",
       "      <td>True</td>\n",
       "      <td>1691357403</td>\n",
       "      <td>EUR</td>\n",
       "      <td>2023-08-06</td>\n",
       "      <td>21.123650</td>\n",
       "    </tr>\n",
       "    <tr>\n",
       "      <th>ZWL</th>\n",
       "      <td>True</td>\n",
       "      <td>1691357403</td>\n",
       "      <td>EUR</td>\n",
       "      <td>2023-08-06</td>\n",
       "      <td>354.693462</td>\n",
       "    </tr>\n",
       "  </tbody>\n",
       "</table>\n",
       "<p>170 rows × 5 columns</p>\n",
       "</div>"
      ],
      "text/plain": [
       "     success   timestamp base        date        rates\n",
       "AED     True  1691357403  EUR  2023-08-06     4.045927\n",
       "AFN     True  1691357403  EUR  2023-08-06    93.252869\n",
       "ALL     True  1691357403  EUR  2023-08-06   103.783193\n",
       "AMD     True  1691357403  EUR  2023-08-06   423.913041\n",
       "ANG     True  1691357403  EUR  2023-08-06     1.972561\n",
       "..       ...         ...  ...         ...          ...\n",
       "YER     True  1691357403  EUR  2023-08-06   275.769030\n",
       "ZAR     True  1691357403  EUR  2023-08-06    20.317776\n",
       "ZMK     True  1691357403  EUR  2023-08-06  9915.108927\n",
       "ZMW     True  1691357403  EUR  2023-08-06    21.123650\n",
       "ZWL     True  1691357403  EUR  2023-08-06   354.693462\n",
       "\n",
       "[170 rows x 5 columns]"
      ]
     },
     "execution_count": 25,
     "metadata": {},
     "output_type": "execute_result"
    }
   ],
   "source": [
    "# Turn the data into a dataframe\n",
    "df = pd.DataFrame(res.json())\n",
    "df"
   ]
  },
  {
   "cell_type": "code",
   "execution_count": 26,
   "metadata": {
    "tags": []
   },
   "outputs": [
    {
     "data": {
      "text/html": [
       "<div>\n",
       "<style scoped>\n",
       "    .dataframe tbody tr th:only-of-type {\n",
       "        vertical-align: middle;\n",
       "    }\n",
       "\n",
       "    .dataframe tbody tr th {\n",
       "        vertical-align: top;\n",
       "    }\n",
       "\n",
       "    .dataframe thead th {\n",
       "        text-align: right;\n",
       "    }\n",
       "</style>\n",
       "<table border=\"1\" class=\"dataframe\">\n",
       "  <thead>\n",
       "    <tr style=\"text-align: right;\">\n",
       "      <th></th>\n",
       "      <th>rates</th>\n",
       "    </tr>\n",
       "  </thead>\n",
       "  <tbody>\n",
       "    <tr>\n",
       "      <th>AED</th>\n",
       "      <td>4.045927</td>\n",
       "    </tr>\n",
       "    <tr>\n",
       "      <th>AFN</th>\n",
       "      <td>93.252869</td>\n",
       "    </tr>\n",
       "    <tr>\n",
       "      <th>ALL</th>\n",
       "      <td>103.783193</td>\n",
       "    </tr>\n",
       "    <tr>\n",
       "      <th>AMD</th>\n",
       "      <td>423.913041</td>\n",
       "    </tr>\n",
       "    <tr>\n",
       "      <th>ANG</th>\n",
       "      <td>1.972561</td>\n",
       "    </tr>\n",
       "    <tr>\n",
       "      <th>...</th>\n",
       "      <td>...</td>\n",
       "    </tr>\n",
       "    <tr>\n",
       "      <th>YER</th>\n",
       "      <td>275.769030</td>\n",
       "    </tr>\n",
       "    <tr>\n",
       "      <th>ZAR</th>\n",
       "      <td>20.317776</td>\n",
       "    </tr>\n",
       "    <tr>\n",
       "      <th>ZMK</th>\n",
       "      <td>9915.108927</td>\n",
       "    </tr>\n",
       "    <tr>\n",
       "      <th>ZMW</th>\n",
       "      <td>21.123650</td>\n",
       "    </tr>\n",
       "    <tr>\n",
       "      <th>ZWL</th>\n",
       "      <td>354.693462</td>\n",
       "    </tr>\n",
       "  </tbody>\n",
       "</table>\n",
       "<p>170 rows × 1 columns</p>\n",
       "</div>"
      ],
      "text/plain": [
       "           rates\n",
       "AED     4.045927\n",
       "AFN    93.252869\n",
       "ALL   103.783193\n",
       "AMD   423.913041\n",
       "ANG     1.972561\n",
       "..           ...\n",
       "YER   275.769030\n",
       "ZAR    20.317776\n",
       "ZMK  9915.108927\n",
       "ZMW    21.123650\n",
       "ZWL   354.693462\n",
       "\n",
       "[170 rows x 1 columns]"
      ]
     },
     "execution_count": 26,
     "metadata": {},
     "output_type": "execute_result"
    }
   ],
   "source": [
    "# Drop unnescessary columns\n",
    "df = df.drop(columns=['success','timestamp','base','date'])\n",
    "df"
   ]
  },
  {
   "cell_type": "markdown",
   "metadata": {},
   "source": [
    "### Load the Data\n",
    "\n",
    "Using the dataframe save it as a CSV names `exchange_rates_1.csv`.\n"
   ]
  },
  {
   "cell_type": "code",
   "execution_count": 27,
   "metadata": {
    "tags": []
   },
   "outputs": [],
   "source": [
    "# Save the Dataframe\n",
    "df.to_csv('exchange_rates_1.csv')"
   ]
  },
  {
   "cell_type": "markdown",
   "metadata": {},
   "source": [
    "Your CSV should be in this format with more currencies\n",
    "\n",
    "| | Rates |\n",
    "| ------- | ------- |\n",
    "|  AED| 4.398618    |\n",
    "|  AFN| 92.917693   |  \n",
    "|  ALL| 123.099093  |\n",
    "|  AMD| 621.935674  |\n",
    "|  ANG| 2.149648    | \n"
   ]
  },
  {
   "cell_type": "markdown",
   "metadata": {},
   "source": [
    "## Authors\n"
   ]
  },
  {
   "cell_type": "markdown",
   "metadata": {},
   "source": [
    "Ramesh Sannareddy, Joseph Santarcangelo and Azim Hirjani\n"
   ]
  },
  {
   "cell_type": "markdown",
   "metadata": {},
   "source": [
    "### Other Contributors\n"
   ]
  },
  {
   "cell_type": "markdown",
   "metadata": {},
   "source": [
    "Rav Ahuja\n"
   ]
  },
  {
   "cell_type": "markdown",
   "metadata": {},
   "source": [
    "## Change Log\n"
   ]
  },
  {
   "cell_type": "markdown",
   "metadata": {},
   "source": [
    "| Date (YYYY-MM-DD) | Version | Changed By        | Change Description                 |\n",
    "| ----------------- | ------- | ----------------- | ---------------------------------- |\n",
    "| 2022-05-06        | 0.3     | Malika            | Updated instructions to get the API and the url|\n",
    "| 2021-04-15        | 0.2     | Malika            | Updated the lab from USD to EUR    |\n",
    "| 2020-11-25        | 0.1     | Ramesh Sannareddy | Created initial version of the lab |\n"
   ]
  },
  {
   "cell_type": "markdown",
   "metadata": {},
   "source": [
    " Copyright © 2020 IBM Corporation. This notebook and its source code are released under the terms of the [MIT License](https://cognitiveclass.ai/mit-license?utm_medium=Exinfluencer&utm_source=Exinfluencer&utm_content=000026UJ&utm_term=10006555&utm_id=NA-SkillsNetwork-Channel-SkillsNetworkCoursesIBMDeveloperSkillsNetworkPY0221ENSkillsNetwork899-2023-01-01&cm_mmc=Email_Newsletter-_-Developer_Ed%2BTech-_-WW_WW-_-SkillsNetwork-Courses-IBM-DA0321EN-SkillsNetwork-21426264&cm_mmca1=000026UJ&cm_mmca2=10006555&cm_mmca3=M12345678&cvosrc=email.Newsletter.M12345678&cvo_campaign=000026UJ).\n"
   ]
  }
 ],
 "metadata": {
  "kernelspec": {
   "display_name": "Python",
   "language": "python",
   "name": "conda-env-python-py"
  },
  "language_info": {
   "codemirror_mode": {
    "name": "ipython",
    "version": 3
   },
   "file_extension": ".py",
   "mimetype": "text/x-python",
   "name": "python",
   "nbconvert_exporter": "python",
   "pygments_lexer": "ipython3",
   "version": "3.7.12"
  }
 },
 "nbformat": 4,
 "nbformat_minor": 4
}
